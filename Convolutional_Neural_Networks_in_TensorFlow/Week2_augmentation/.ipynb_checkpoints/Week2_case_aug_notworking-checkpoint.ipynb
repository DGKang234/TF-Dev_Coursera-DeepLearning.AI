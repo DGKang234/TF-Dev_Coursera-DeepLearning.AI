{
 "cells": [
  {
   "cell_type": "code",
   "execution_count": 1,
   "id": "d1f8024e-399f-4166-bae5-f60697669653",
   "metadata": {},
   "outputs": [],
   "source": [
    "import os\n",
    "import zipfile\n",
    "\n",
    "# Extract the archive\n",
    "#zip_ref = zipfile.ZipFile('../../data/horse-or-human.zip', 'r')\n",
    "#zip_ref.extractall('../../data/horse-or-human')\n",
    "#\n",
    "#zip_ref = zipfile.ZipFile('../../data/validation-horse-or-human.zip', 'r')\n",
    "#zip_ref.extractall('../../data/validation-horse-or-human')\n",
    "#\n",
    "#zip_ref.close()\n",
    "\n",
    "# Directory with training horse pictures\n",
    "train_horse_dir = os.path.join('../../data/horse-or-human/horses')\n",
    "\n",
    "# Directory with training human pictures\n",
    "train_human_dir = os.path.join('../../data/horse-or-human/humans')\n",
    "\n",
    "# Directory with training horse pictures\n",
    "validation_horse_dir = os.path.join('../../data/validation-horse-or-human/horses')\n",
    "\n",
    "# Directory with training human pictures\n",
    "validation_human_dir = os.path.join('../../data/validation-horse-or-human/humans')"
   ]
  },
  {
   "cell_type": "code",
   "execution_count": 2,
   "id": "6371588b-7d6f-4566-bc85-2902dc1309cc",
   "metadata": {},
   "outputs": [
    {
     "name": "stdout",
     "output_type": "stream",
     "text": [
      "Metal device set to: Apple M1 Pro\n"
     ]
    },
    {
     "name": "stderr",
     "output_type": "stream",
     "text": [
      "2022-04-22 11:46:16.043306: I tensorflow/core/common_runtime/pluggable_device/pluggable_device_factory.cc:305] Could not identify NUMA node of platform GPU ID 0, defaulting to 0. Your kernel may not have been built with NUMA support.\n",
      "2022-04-22 11:46:16.043437: I tensorflow/core/common_runtime/pluggable_device/pluggable_device_factory.cc:271] Created TensorFlow device (/job:localhost/replica:0/task:0/device:GPU:0 with 0 MB memory) -> physical PluggableDevice (device: 0, name: METAL, pci bus id: <undefined>)\n"
     ]
    }
   ],
   "source": [
    "import tensorflow as tf\n",
    "\n",
    "# Build the model\n",
    "model = tf.keras.models.Sequential([\n",
    "    # Note the input shape is the desired size of the image 300x300 with 3 bytes color\n",
    "    # This is the first convolution\n",
    "    tf.keras.layers.Conv2D(16, (3,3), activation='relu', input_shape=(300, 300, 3)),\n",
    "    tf.keras.layers.MaxPooling2D(2, 2),\n",
    "    # The second convolution\n",
    "    tf.keras.layers.Conv2D(32, (3,3), activation='relu'),\n",
    "    tf.keras.layers.MaxPooling2D(2,2),\n",
    "    # The third convolution\n",
    "    tf.keras.layers.Conv2D(64, (3,3), activation='relu'),\n",
    "    tf.keras.layers.MaxPooling2D(2,2),\n",
    "    # The fourth convolution\n",
    "    tf.keras.layers.Conv2D(64, (3,3), activation='relu'),\n",
    "    tf.keras.layers.MaxPooling2D(2,2),\n",
    "    # The fifth convolution\n",
    "    tf.keras.layers.Conv2D(64, (3,3), activation='relu'),\n",
    "    tf.keras.layers.MaxPooling2D(2,2),\n",
    "    # Flatten the results to feed into a DNN\n",
    "    tf.keras.layers.Flatten(),\n",
    "    # 512 neuron hidden layer\n",
    "    tf.keras.layers.Dense(512, activation='relu'),\n",
    "    # Only 1 output neuron. It will contain a value from 0-1 where 0 for 1 class ('horses') and 1 for the other ('humans')\n",
    "    tf.keras.layers.Dense(1, activation='sigmoid')\n",
    "])"
   ]
  },
  {
   "cell_type": "code",
   "execution_count": 3,
   "id": "f06ac3a6-58bb-4756-bba5-71d0e15e4006",
   "metadata": {},
   "outputs": [],
   "source": [
    "from tensorflow.keras.optimizers import RMSprop\n",
    "\n",
    "# Set training parameters\n",
    "model.compile(loss='binary_crossentropy',\n",
    "              optimizer=RMSprop(learning_rate=1e-4),\n",
    "              metrics=['accuracy'])"
   ]
  },
  {
   "cell_type": "code",
   "execution_count": 4,
   "id": "31c21ee3-f810-4470-9ed5-a17ede094713",
   "metadata": {},
   "outputs": [
    {
     "name": "stdout",
     "output_type": "stream",
     "text": [
      "Found 1027 images belonging to 2 classes.\n",
      "Found 256 images belonging to 2 classes.\n"
     ]
    }
   ],
   "source": [
    "from tensorflow.keras.preprocessing.image import ImageDataGenerator\n",
    "\n",
    "# Apply data augmentation\n",
    "train_datagen = ImageDataGenerator(\n",
    "      rescale=1./255,\n",
    "      rotation_range=40,\n",
    "      width_shift_range=0.2,\n",
    "      height_shift_range=0.2,\n",
    "      shear_range=0.2,\n",
    "      zoom_range=0.2,\n",
    "      horizontal_flip=True,\n",
    "      fill_mode='nearest')\n",
    "\n",
    "validation_datagen = ImageDataGenerator(rescale=1/255)\n",
    "\n",
    "# Flow training images in batches of 128 using train_datagen generator\n",
    "train_generator = train_datagen.flow_from_directory(\n",
    "        '../../data/horse-or-human/',  # This is the source directory for training images\n",
    "        target_size=(300, 300),  # All images will be resized to 150x150\n",
    "        batch_size=128,\n",
    "        # Since we use binary_crossentropy loss, we need binary labels\n",
    "        class_mode='binary')\n",
    "\n",
    "# Flow training images in batches of 128 using train_datagen generator\n",
    "validation_generator = validation_datagen.flow_from_directory(\n",
    "        '../../data/validation-horse-or-human/',  # This is the source directory for training images\n",
    "        target_size=(300, 300),  # All images will be resized to 150x150\n",
    "        batch_size=32,\n",
    "        # Since we use binary_crossentropy loss, we need binary labels\n",
    "        class_mode='binary')\n"
   ]
  },
  {
   "cell_type": "code",
   "execution_count": 5,
   "id": "167cd77d-5e21-4b09-a8f5-22867b8219d6",
   "metadata": {},
   "outputs": [
    {
     "name": "stdout",
     "output_type": "stream",
     "text": [
      "Epoch 1/100\n"
     ]
    },
    {
     "name": "stderr",
     "output_type": "stream",
     "text": [
      "2022-04-22 11:46:18.318609: W tensorflow/core/platform/profile_utils/cpu_utils.cc:128] Failed to get CPU frequency: 0 Hz\n",
      "2022-04-22 11:46:18.583522: I tensorflow/core/grappler/optimizers/custom_graph_optimizer_registry.cc:113] Plugin optimizer for device_type GPU is enabled.\n"
     ]
    },
    {
     "name": "stdout",
     "output_type": "stream",
     "text": [
      "8/8 [==============================] - ETA: 0s - loss: 0.6662 - accuracy: 0.5840"
     ]
    },
    {
     "name": "stderr",
     "output_type": "stream",
     "text": [
      "2022-04-22 11:46:33.235129: I tensorflow/core/grappler/optimizers/custom_graph_optimizer_registry.cc:113] Plugin optimizer for device_type GPU is enabled.\n"
     ]
    },
    {
     "name": "stdout",
     "output_type": "stream",
     "text": [
      "8/8 [==============================] - 16s 2s/step - loss: 0.6662 - accuracy: 0.5840 - val_loss: 0.6160 - val_accuracy: 0.8320\n",
      "Epoch 2/100\n",
      "8/8 [==============================] - 14s 2s/step - loss: 0.6219 - accuracy: 0.6874 - val_loss: 0.6419 - val_accuracy: 0.5000\n",
      "Epoch 3/100\n",
      "8/8 [==============================] - 13s 2s/step - loss: 0.6077 - accuracy: 0.6541 - val_loss: 0.6070 - val_accuracy: 0.5742\n",
      "Epoch 4/100\n",
      "8/8 [==============================] - 13s 2s/step - loss: 0.5719 - accuracy: 0.7186 - val_loss: 1.1558 - val_accuracy: 0.5000\n",
      "Epoch 5/100\n",
      "8/8 [==============================] - 13s 2s/step - loss: 0.5681 - accuracy: 0.7019 - val_loss: 0.6228 - val_accuracy: 0.5781\n",
      "Epoch 6/100\n",
      "8/8 [==============================] - 13s 2s/step - loss: 0.5697 - accuracy: 0.7275 - val_loss: 0.7750 - val_accuracy: 0.5195\n",
      "Epoch 7/100\n",
      "8/8 [==============================] - 13s 2s/step - loss: 0.5280 - accuracy: 0.7419 - val_loss: 0.5731 - val_accuracy: 0.6523\n",
      "Epoch 8/100\n",
      "8/8 [==============================] - 13s 2s/step - loss: 0.5044 - accuracy: 0.7720 - val_loss: 0.5330 - val_accuracy: 0.6797\n",
      "Epoch 9/100\n",
      "8/8 [==============================] - 13s 2s/step - loss: 0.5152 - accuracy: 0.7497 - val_loss: 0.6889 - val_accuracy: 0.6328\n",
      "Epoch 10/100\n",
      "8/8 [==============================] - 13s 2s/step - loss: 0.5059 - accuracy: 0.7675 - val_loss: 0.7293 - val_accuracy: 0.6250\n",
      "Epoch 11/100\n",
      "8/8 [==============================] - 15s 2s/step - loss: 0.4529 - accuracy: 0.7979 - val_loss: 0.7163 - val_accuracy: 0.6562\n",
      "Epoch 12/100\n",
      "8/8 [==============================] - 13s 2s/step - loss: 0.5018 - accuracy: 0.7575 - val_loss: 0.7034 - val_accuracy: 0.6602\n",
      "Epoch 13/100\n",
      "8/8 [==============================] - 13s 2s/step - loss: 0.4581 - accuracy: 0.7964 - val_loss: 0.9654 - val_accuracy: 0.6133\n",
      "Epoch 14/100\n",
      "8/8 [==============================] - 13s 2s/step - loss: 0.4575 - accuracy: 0.7931 - val_loss: 0.7646 - val_accuracy: 0.6602\n",
      "Epoch 15/100\n",
      "8/8 [==============================] - 13s 2s/step - loss: 0.4473 - accuracy: 0.7953 - val_loss: 0.9699 - val_accuracy: 0.6367\n",
      "Epoch 16/100\n",
      "8/8 [==============================] - 13s 2s/step - loss: 0.4075 - accuracy: 0.8187 - val_loss: 1.4042 - val_accuracy: 0.5586\n",
      "Epoch 17/100\n",
      "8/8 [==============================] - 13s 2s/step - loss: 0.5004 - accuracy: 0.7831 - val_loss: 1.0888 - val_accuracy: 0.6406\n",
      "Epoch 18/100\n",
      "8/8 [==============================] - 13s 2s/step - loss: 0.4423 - accuracy: 0.7976 - val_loss: 1.2798 - val_accuracy: 0.5820\n",
      "Epoch 19/100\n",
      "8/8 [==============================] - 13s 2s/step - loss: 0.3952 - accuracy: 0.8220 - val_loss: 1.2764 - val_accuracy: 0.6016\n",
      "Epoch 20/100\n",
      "8/8 [==============================] - 13s 2s/step - loss: 0.3849 - accuracy: 0.8209 - val_loss: 1.2572 - val_accuracy: 0.6328\n",
      "Epoch 21/100\n",
      "8/8 [==============================] - 13s 2s/step - loss: 0.3748 - accuracy: 0.8398 - val_loss: 1.1898 - val_accuracy: 0.6562\n",
      "Epoch 22/100\n",
      "8/8 [==============================] - 13s 2s/step - loss: 0.3934 - accuracy: 0.8020 - val_loss: 1.2056 - val_accuracy: 0.6367\n",
      "Epoch 23/100\n",
      "8/8 [==============================] - 13s 2s/step - loss: 0.3692 - accuracy: 0.8309 - val_loss: 1.7509 - val_accuracy: 0.5703\n",
      "Epoch 24/100\n",
      "8/8 [==============================] - 13s 2s/step - loss: 0.4213 - accuracy: 0.8198 - val_loss: 1.8247 - val_accuracy: 0.5586\n",
      "Epoch 25/100\n",
      "8/8 [==============================] - 13s 2s/step - loss: 0.3780 - accuracy: 0.8220 - val_loss: 1.5808 - val_accuracy: 0.5898\n",
      "Epoch 26/100\n",
      "8/8 [==============================] - 13s 2s/step - loss: 0.3391 - accuracy: 0.8365 - val_loss: 1.9666 - val_accuracy: 0.5508\n",
      "Epoch 27/100\n",
      "8/8 [==============================] - 13s 2s/step - loss: 0.3667 - accuracy: 0.8331 - val_loss: 1.2869 - val_accuracy: 0.6367\n",
      "Epoch 28/100\n",
      "8/8 [==============================] - 13s 2s/step - loss: 0.3263 - accuracy: 0.8598 - val_loss: 1.8992 - val_accuracy: 0.5820\n",
      "Epoch 29/100\n",
      "8/8 [==============================] - 13s 2s/step - loss: 0.3258 - accuracy: 0.8543 - val_loss: 1.1847 - val_accuracy: 0.6602\n",
      "Epoch 30/100\n",
      "8/8 [==============================] - 14s 2s/step - loss: 0.3315 - accuracy: 0.8576 - val_loss: 1.4593 - val_accuracy: 0.6367\n",
      "Epoch 31/100\n",
      "8/8 [==============================] - 13s 2s/step - loss: 0.2889 - accuracy: 0.8665 - val_loss: 1.9584 - val_accuracy: 0.5898\n",
      "Epoch 32/100\n",
      "8/8 [==============================] - 13s 2s/step - loss: 0.3358 - accuracy: 0.8432 - val_loss: 1.5111 - val_accuracy: 0.6406\n",
      "Epoch 33/100\n",
      "8/8 [==============================] - 13s 2s/step - loss: 0.3078 - accuracy: 0.8643 - val_loss: 1.4327 - val_accuracy: 0.6602\n",
      "Epoch 34/100\n",
      "8/8 [==============================] - 13s 2s/step - loss: 0.2524 - accuracy: 0.8877 - val_loss: 1.4334 - val_accuracy: 0.6445\n",
      "Epoch 35/100\n",
      "8/8 [==============================] - 13s 2s/step - loss: 0.2883 - accuracy: 0.8765 - val_loss: 1.2907 - val_accuracy: 0.6953\n",
      "Epoch 36/100\n",
      "8/8 [==============================] - 13s 2s/step - loss: 0.3128 - accuracy: 0.8610 - val_loss: 1.9254 - val_accuracy: 0.5859\n",
      "Epoch 37/100\n",
      "8/8 [==============================] - 14s 2s/step - loss: 0.2559 - accuracy: 0.8975 - val_loss: 1.4422 - val_accuracy: 0.6602\n",
      "Epoch 38/100\n",
      "8/8 [==============================] - 13s 2s/step - loss: 0.2433 - accuracy: 0.8977 - val_loss: 3.5726 - val_accuracy: 0.5078\n",
      "Epoch 39/100\n",
      "8/8 [==============================] - 13s 2s/step - loss: 0.3282 - accuracy: 0.8443 - val_loss: 1.6059 - val_accuracy: 0.6484\n",
      "Epoch 40/100\n",
      "8/8 [==============================] - 13s 2s/step - loss: 0.2065 - accuracy: 0.9232 - val_loss: 3.3833 - val_accuracy: 0.5430\n",
      "Epoch 41/100\n",
      "8/8 [==============================] - 13s 2s/step - loss: 0.2508 - accuracy: 0.8865 - val_loss: 5.2590 - val_accuracy: 0.5000\n",
      "Epoch 42/100\n",
      "8/8 [==============================] - 13s 2s/step - loss: 0.3405 - accuracy: 0.8632 - val_loss: 2.2229 - val_accuracy: 0.6055\n",
      "Epoch 43/100\n",
      "8/8 [==============================] - 13s 2s/step - loss: 0.2389 - accuracy: 0.8910 - val_loss: 2.0092 - val_accuracy: 0.6367\n",
      "Epoch 44/100\n",
      "8/8 [==============================] - 14s 2s/step - loss: 0.2432 - accuracy: 0.9004 - val_loss: 2.4910 - val_accuracy: 0.5664\n",
      "Epoch 45/100\n",
      "8/8 [==============================] - 14s 2s/step - loss: 0.2642 - accuracy: 0.8848 - val_loss: 1.6451 - val_accuracy: 0.6523\n",
      "Epoch 46/100\n",
      "8/8 [==============================] - 13s 2s/step - loss: 0.2104 - accuracy: 0.9221 - val_loss: 1.4189 - val_accuracy: 0.6875\n",
      "Epoch 47/100\n",
      "8/8 [==============================] - 13s 2s/step - loss: 0.2112 - accuracy: 0.9132 - val_loss: 1.5837 - val_accuracy: 0.6797\n",
      "Epoch 48/100\n",
      "8/8 [==============================] - 13s 2s/step - loss: 0.2822 - accuracy: 0.8832 - val_loss: 1.5388 - val_accuracy: 0.6797\n",
      "Epoch 49/100\n",
      "8/8 [==============================] - 13s 1s/step - loss: 0.2227 - accuracy: 0.9032 - val_loss: 2.3017 - val_accuracy: 0.6406\n",
      "Epoch 50/100\n",
      "8/8 [==============================] - 14s 2s/step - loss: 0.2138 - accuracy: 0.9170 - val_loss: 1.4542 - val_accuracy: 0.6953\n",
      "Epoch 51/100\n",
      "8/8 [==============================] - 13s 2s/step - loss: 0.2348 - accuracy: 0.9010 - val_loss: 2.3986 - val_accuracy: 0.6016\n",
      "Epoch 52/100\n",
      "8/8 [==============================] - 13s 2s/step - loss: 0.1879 - accuracy: 0.9255 - val_loss: 1.8826 - val_accuracy: 0.6680\n",
      "Epoch 53/100\n",
      "8/8 [==============================] - 13s 2s/step - loss: 0.1991 - accuracy: 0.9132 - val_loss: 2.4101 - val_accuracy: 0.6250\n",
      "Epoch 54/100\n",
      "8/8 [==============================] - 14s 2s/step - loss: 0.1954 - accuracy: 0.9141 - val_loss: 2.3970 - val_accuracy: 0.6367\n",
      "Epoch 55/100\n",
      "8/8 [==============================] - 13s 2s/step - loss: 0.2175 - accuracy: 0.9177 - val_loss: 1.8246 - val_accuracy: 0.6719\n",
      "Epoch 56/100\n",
      "8/8 [==============================] - 13s 2s/step - loss: 0.2038 - accuracy: 0.9099 - val_loss: 1.3598 - val_accuracy: 0.6992\n",
      "Epoch 57/100\n",
      "8/8 [==============================] - 13s 2s/step - loss: 0.2043 - accuracy: 0.9255 - val_loss: 1.7574 - val_accuracy: 0.6836\n",
      "Epoch 58/100\n",
      "8/8 [==============================] - 13s 2s/step - loss: 0.1651 - accuracy: 0.9455 - val_loss: 3.0010 - val_accuracy: 0.6328\n",
      "Epoch 59/100\n",
      "8/8 [==============================] - 13s 2s/step - loss: 0.2144 - accuracy: 0.9099 - val_loss: 1.8487 - val_accuracy: 0.6719\n",
      "Epoch 60/100\n",
      "8/8 [==============================] - 13s 2s/step - loss: 0.1588 - accuracy: 0.9410 - val_loss: 1.2239 - val_accuracy: 0.7500\n",
      "Epoch 61/100\n",
      "8/8 [==============================] - 13s 2s/step - loss: 0.1870 - accuracy: 0.9277 - val_loss: 2.7398 - val_accuracy: 0.6094\n",
      "Epoch 62/100\n",
      "8/8 [==============================] - 13s 2s/step - loss: 0.1456 - accuracy: 0.9377 - val_loss: 1.8956 - val_accuracy: 0.6953\n",
      "Epoch 63/100\n",
      "8/8 [==============================] - 13s 2s/step - loss: 0.2467 - accuracy: 0.8921 - val_loss: 0.5703 - val_accuracy: 0.8633\n",
      "Epoch 64/100\n",
      "8/8 [==============================] - 14s 2s/step - loss: 0.2100 - accuracy: 0.9189 - val_loss: 1.9384 - val_accuracy: 0.6797\n",
      "Epoch 65/100\n",
      "8/8 [==============================] - 14s 2s/step - loss: 0.1246 - accuracy: 0.9580 - val_loss: 2.5300 - val_accuracy: 0.6523\n",
      "Epoch 66/100\n",
      "8/8 [==============================] - 13s 2s/step - loss: 0.2159 - accuracy: 0.9110 - val_loss: 2.1252 - val_accuracy: 0.6875\n",
      "Epoch 67/100\n",
      "8/8 [==============================] - 13s 2s/step - loss: 0.1856 - accuracy: 0.9177 - val_loss: 1.6920 - val_accuracy: 0.7227\n",
      "Epoch 68/100\n",
      "8/8 [==============================] - 13s 2s/step - loss: 0.1606 - accuracy: 0.9366 - val_loss: 1.6663 - val_accuracy: 0.7344\n",
      "Epoch 69/100\n",
      "8/8 [==============================] - 13s 2s/step - loss: 0.2093 - accuracy: 0.9155 - val_loss: 1.2172 - val_accuracy: 0.7344\n",
      "Epoch 70/100\n",
      "8/8 [==============================] - 13s 2s/step - loss: 0.1571 - accuracy: 0.9377 - val_loss: 1.4020 - val_accuracy: 0.7461\n",
      "Epoch 71/100\n",
      "8/8 [==============================] - 13s 2s/step - loss: 0.1702 - accuracy: 0.9299 - val_loss: 1.8839 - val_accuracy: 0.7031\n",
      "Epoch 72/100\n",
      "8/8 [==============================] - 13s 2s/step - loss: 0.1666 - accuracy: 0.9321 - val_loss: 1.6117 - val_accuracy: 0.7344\n",
      "Epoch 73/100\n",
      "8/8 [==============================] - 13s 2s/step - loss: 0.1582 - accuracy: 0.9333 - val_loss: 1.1517 - val_accuracy: 0.7734\n",
      "Epoch 74/100\n",
      "8/8 [==============================] - 13s 2s/step - loss: 0.1467 - accuracy: 0.9455 - val_loss: 1.8707 - val_accuracy: 0.7070\n",
      "Epoch 75/100\n",
      "8/8 [==============================] - 13s 2s/step - loss: 0.2790 - accuracy: 0.9077 - val_loss: 1.9126 - val_accuracy: 0.7070\n",
      "Epoch 76/100\n",
      "8/8 [==============================] - 15s 2s/step - loss: 0.1230 - accuracy: 0.9473 - val_loss: 1.8525 - val_accuracy: 0.7266\n",
      "Epoch 77/100\n",
      "8/8 [==============================] - 13s 2s/step - loss: 0.2143 - accuracy: 0.9077 - val_loss: 1.9179 - val_accuracy: 0.6992\n",
      "Epoch 78/100\n",
      "8/8 [==============================] - 13s 2s/step - loss: 0.1418 - accuracy: 0.9477 - val_loss: 2.1125 - val_accuracy: 0.7031\n",
      "Epoch 79/100\n",
      "8/8 [==============================] - 13s 2s/step - loss: 0.1223 - accuracy: 0.9555 - val_loss: 2.9304 - val_accuracy: 0.6367\n",
      "Epoch 80/100\n",
      "8/8 [==============================] - 13s 2s/step - loss: 0.1440 - accuracy: 0.9388 - val_loss: 2.6474 - val_accuracy: 0.6562\n",
      "Epoch 81/100\n",
      "8/8 [==============================] - 13s 2s/step - loss: 0.1106 - accuracy: 0.9555 - val_loss: 3.1303 - val_accuracy: 0.6211\n",
      "Epoch 82/100\n",
      "8/8 [==============================] - 13s 2s/step - loss: 0.1357 - accuracy: 0.9499 - val_loss: 2.3743 - val_accuracy: 0.6875\n",
      "Epoch 83/100\n",
      "8/8 [==============================] - 13s 2s/step - loss: 0.1721 - accuracy: 0.9355 - val_loss: 0.8108 - val_accuracy: 0.8477\n",
      "Epoch 84/100\n",
      "8/8 [==============================] - 13s 2s/step - loss: 0.1466 - accuracy: 0.9433 - val_loss: 2.4652 - val_accuracy: 0.6758\n",
      "Epoch 85/100\n",
      "8/8 [==============================] - 14s 2s/step - loss: 0.1250 - accuracy: 0.9502 - val_loss: 1.0003 - val_accuracy: 0.8359\n",
      "Epoch 86/100\n",
      "8/8 [==============================] - 15s 2s/step - loss: 0.1623 - accuracy: 0.9336 - val_loss: 1.6485 - val_accuracy: 0.7422\n",
      "Epoch 87/100\n",
      "8/8 [==============================] - 13s 2s/step - loss: 0.1512 - accuracy: 0.9321 - val_loss: 2.5693 - val_accuracy: 0.6680\n",
      "Epoch 88/100\n",
      "8/8 [==============================] - 13s 2s/step - loss: 0.1684 - accuracy: 0.9422 - val_loss: 2.2075 - val_accuracy: 0.6914\n",
      "Epoch 89/100\n",
      "8/8 [==============================] - 13s 2s/step - loss: 0.1102 - accuracy: 0.9566 - val_loss: 2.7990 - val_accuracy: 0.6602\n",
      "Epoch 90/100\n",
      "8/8 [==============================] - 13s 2s/step - loss: 0.1687 - accuracy: 0.9299 - val_loss: 2.4318 - val_accuracy: 0.6797\n",
      "Epoch 91/100\n",
      "8/8 [==============================] - 13s 2s/step - loss: 0.1314 - accuracy: 0.9566 - val_loss: 1.5795 - val_accuracy: 0.7461\n",
      "Epoch 92/100\n",
      "8/8 [==============================] - 13s 2s/step - loss: 0.1111 - accuracy: 0.9622 - val_loss: 3.8082 - val_accuracy: 0.6133\n",
      "Epoch 93/100\n",
      "8/8 [==============================] - 13s 2s/step - loss: 0.1907 - accuracy: 0.9344 - val_loss: 2.3998 - val_accuracy: 0.6797\n",
      "Epoch 94/100\n",
      "8/8 [==============================] - 13s 2s/step - loss: 0.1254 - accuracy: 0.9533 - val_loss: 2.0364 - val_accuracy: 0.6953\n",
      "Epoch 95/100\n",
      "8/8 [==============================] - 13s 2s/step - loss: 0.1076 - accuracy: 0.9577 - val_loss: 2.5918 - val_accuracy: 0.6719\n",
      "Epoch 96/100\n",
      "8/8 [==============================] - 13s 2s/step - loss: 0.1375 - accuracy: 0.9511 - val_loss: 3.5579 - val_accuracy: 0.6016\n",
      "Epoch 97/100\n",
      "8/8 [==============================] - 12s 2s/step - loss: 0.2072 - accuracy: 0.9232 - val_loss: 2.2234 - val_accuracy: 0.6875\n",
      "Epoch 98/100\n",
      "8/8 [==============================] - 13s 2s/step - loss: 0.1107 - accuracy: 0.9611 - val_loss: 2.0455 - val_accuracy: 0.7031\n",
      "Epoch 99/100\n",
      "8/8 [==============================] - 14s 2s/step - loss: 0.1040 - accuracy: 0.9639 - val_loss: 2.2615 - val_accuracy: 0.6758\n",
      "Epoch 100/100\n",
      "8/8 [==============================] - 14s 2s/step - loss: 0.1087 - accuracy: 0.9561 - val_loss: 2.5889 - val_accuracy: 0.6641\n"
     ]
    }
   ],
   "source": [
    "# Constant for epochs\n",
    "EPOCHS = 100\n",
    "\n",
    "# Train the model\n",
    "history = model.fit(\n",
    "      train_generator,\n",
    "      steps_per_epoch=8,  \n",
    "      epochs=EPOCHS,\n",
    "      verbose=1,\n",
    "      validation_data = validation_generator,\n",
    "      validation_steps=8)"
   ]
  },
  {
   "cell_type": "code",
   "execution_count": 6,
   "id": "515bdec9-3a7d-46a4-b175-960675a65747",
   "metadata": {},
   "outputs": [
    {
     "data": {
      "image/png": "[encoded data removed]",
      "text/plain": [
       "<Figure size 432x288 with 1 Axes>"
      ]
     },
     "metadata": {
      "needs_background": "light"
     },
     "output_type": "display_data"
    },
    {
     "data": {
      "image/png": "[encoded data removed]",
      "text/plain": [
       "<Figure size 432x288 with 1 Axes>"
      ]
     },
     "metadata": {
      "needs_background": "light"
     },
     "output_type": "display_data"
    }
   ],
   "source": [
    "import matplotlib.pyplot as plt\n",
    "\n",
    "# Plot the model results\n",
    "acc = history.history['accuracy']\n",
    "val_acc = history.history['val_accuracy']\n",
    "loss = history.history['loss']\n",
    "val_loss = history.history['val_loss']\n",
    "\n",
    "epochs = range(len(acc))\n",
    "\n",
    "plt.plot(epochs, acc, 'r', label='Training accuracy')\n",
    "plt.plot(epochs, val_acc, 'b', label='Validation accuracy')\n",
    "plt.title('Training and validation accuracy')\n",
    "\n",
    "plt.figure()\n",
    "\n",
    "plt.plot(epochs, loss, 'r', label='Training Loss')\n",
    "plt.plot(epochs, val_loss, 'b', label='Validation Loss')\n",
    "plt.title('Training and validation loss')\n",
    "plt.legend()\n",
    "\n",
    "plt.show()"
   ]
  },
  {
   "cell_type": "markdown",
   "id": "ed125dec-c810-46bc-aa68-6417257767d1",
   "metadata": {},
   "source": [
    " As you watch, you'll see the test accuracy climbing steadily. At first, the validation accuracy seems to be in step, but then you'll see it varying wildly. What's happening here is that despite the image augmentation, the diversity of images is still too sparse and the validation set may also be poorly designed, namely that the type of image in it is too close to the images in the training set. If you inspect the data for yourself you'll see that's the case. For example, the humans are almost always standing up and in the center of the picture, in both the training and validation sets, so augmenting the image will change it to look like something that doesn't look like what's in the validation set. So by the time the training has completed, we can see the same pattern. The training accuracy is trending towards 100 percent, but the validation is fluctuating in the 60s and 70s. Let's plot this, we can see that the training accuracy climbs steadily in the way that we would want, but the validation fluctuated like crazy. So what we can learn from this is that the image augmentation introduces a random element to the training images but if the validation set doesn't have the same randomness, then its results can fluctuate like this. So bear in mind that you don't just need a broad set of images for training, you also need them for testing or the image augmentation won't help you very much."
   ]
  },
  {
   "cell_type": "code",
   "execution_count": null,
   "id": "ab5d2903-6f45-4a8b-942c-436d76e3fe5d",
   "metadata": {},
   "outputs": [],
   "source": []
  }
 ],
 "metadata": {
  "kernelspec": {
   "display_name": "Python 3 (ipykernel)",
   "language": "python",
   "name": "python3"
  },
  "language_info": {
   "codemirror_mode": {
    "name": "ipython",
    "version": 3
   },
   "file_extension": ".py",
   "mimetype": "text/x-python",
   "name": "python",
   "nbconvert_exporter": "python",
   "pygments_lexer": "ipython3",
   "version": "3.8.12"
  }
 },
 "nbformat": 4,
 "nbformat_minor": 5
}
