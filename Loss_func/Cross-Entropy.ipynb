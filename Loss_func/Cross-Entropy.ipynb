{
 "cells": [
  {
   "cell_type": "markdown",
   "id": "3a2abca3-feb3-4e12-a3c2-f98e4df11210",
   "metadata": {},
   "source": [
    "# Cross-entropy"
   ]
  },
  {
   "cell_type": "markdown",
   "id": "3f181a56-db10-47dd-9277-cc3daf6573c0",
   "metadata": {},
   "source": [
    "### Two discrete probability distributions\n",
    "Three different colors with a random variable and there are two different probability distributions for the colours (variable)"
   ]
  },
  {
   "cell_type": "code",
   "execution_count": 1,
   "id": "f1f91c8d-be85-4ea4-84fc-2fe661fb03dc",
   "metadata": {},
   "outputs": [],
   "source": [
    "# define distributions\n",
    "events = ['red', 'green', 'blue']\n",
    "p = [0.10, 0.40, 0.50]\n",
    "q = [0.80, 0.15, 0.05]"
   ]
  },
  {
   "cell_type": "code",
   "execution_count": 2,
   "id": "ba391e6a-c51b-450e-84ae-af89ea6922c8",
   "metadata": {},
   "outputs": [
    {
     "name": "stdout",
     "output_type": "stream",
     "text": [
      "P=1.000 Q=1.000\n"
     ]
    },
    {
     "data": {
      "image/png": "[encoded data removed]",
      "text/plain": [
       "<Figure size 432x288 with 2 Axes>"
      ]
     },
     "metadata": {
      "needs_background": "light"
     },
     "output_type": "display_data"
    }
   ],
   "source": [
    "# plot of distributions\n",
    "from matplotlib import pyplot\n",
    "# define distributions\n",
    "events = ['red', 'green', 'blue']\n",
    "p = [0.10, 0.40, 0.50]\n",
    "q = [0.80, 0.15, 0.05]\n",
    "print('P=%.3f Q=%.3f' % (sum(p), sum(q)))\n",
    "# plot first distribution\n",
    "pyplot.subplot(2,1,1)\n",
    "pyplot.bar(events, p)\n",
    "# plot second distribution\n",
    "pyplot.subplot(2,1,2)\n",
    "pyplot.bar(events, q)\n",
    "# show the plot\n",
    "pyplot.show()"
   ]
  },
  {
   "cell_type": "markdown",
   "id": "9821f8a5-2b60-4509-8de4-aac7eba13ea5",
   "metadata": {},
   "source": [
    "# Cross-Entropy between distributions"
   ]
  },
  {
   "cell_type": "code",
   "execution_count": 3,
   "id": "b09ce645-0005-4086-988a-a9fcf5544531",
   "metadata": {},
   "outputs": [],
   "source": [
    "# Cross-entropy\n",
    "import numpy as np\n",
    "def cross_entropy(p, q):\n",
    "    return -sum([p[i]*np.log(q[i]) for i in range(len(p))])"
   ]
  },
  {
   "cell_type": "code",
   "execution_count": 7,
   "id": "de97f34d-333f-4ec5-a5b3-6fc78df3c877",
   "metadata": {},
   "outputs": [
    {
     "name": "stdout",
     "output_type": "stream",
     "text": [
      "H(P, Q): 2.279\n",
      "H(Q, P): 2.0142\n"
     ]
    }
   ],
   "source": [
    "# the Cross-entropy of P from Q\n",
    "CE_pq = cross_entropy(p, q)\n",
    "print(f'H(P, Q): {round(CE_pq, 4)}')\n",
    "\n",
    "# the CE of Q from P\n",
    "CE_qp = cross_entropy(q, p)\n",
    "print(f'H(Q, P): {round(CE_qp, 4)}')"
   ]
  },
  {
   "cell_type": "markdown",
   "id": "ede652ba-1e9d-424c-a3d4-e3f1d74ac86e",
   "metadata": {},
   "source": []
  },
  {
   "cell_type": "markdown",
   "id": "def356c8-b868-45b3-9469-4946723fe9af",
   "metadata": {},
   "source": [
    "# Cross-Entropy between a distribution and itself"
   ]
  },
  {
   "cell_type": "code",
   "execution_count": 6,
   "id": "49c42b85-19f5-4384-a605-21c8b6ec84f2",
   "metadata": {},
   "outputs": [
    {
     "name": "stdout",
     "output_type": "stream",
     "text": [
      "H(P, P): 0.9433\n",
      "H(Q, Q): 0.6129\n"
     ]
    }
   ],
   "source": [
    "# the Cross-entropy of P from P\n",
    "CE_pq = cross_entropy(p, p)\n",
    "print(f'H(P, P): {round(CE_pq, 4)}')\n",
    "\n",
    "# the CE of Q from Q\n",
    "CE_qp = cross_entropy(q, q)\n",
    "print(f'H(Q, Q): {round(CE_qp, 4)}')"
   ]
  },
  {
   "cell_type": "code",
   "execution_count": null,
   "id": "647bd5d2-a06a-4357-a813-86c310de3ad7",
   "metadata": {},
   "outputs": [],
   "source": []
  }
 ],
 "metadata": {
  "kernelspec": {
   "display_name": "Python 3 (ipykernel)",
   "language": "python",
   "name": "python3"
  },
  "language_info": {
   "codemirror_mode": {
    "name": "ipython",
    "version": 3
   },
   "file_extension": ".py",
   "mimetype": "text/x-python",
   "name": "python",
   "nbconvert_exporter": "python",
   "pygments_lexer": "ipython3",
   "version": "3.8.13"
  }
 },
 "nbformat": 4,
 "nbformat_minor": 5
}
