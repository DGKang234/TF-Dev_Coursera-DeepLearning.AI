{
 "cells": [
  {
   "cell_type": "code",
   "execution_count": 1,
   "id": "912316bc-a0d3-4e31-a873-f00226d21dfc",
   "metadata": {},
   "outputs": [],
   "source": [
    "import tensorflow as tf\n",
    "from os import path, getcwd, chdir"
   ]
  },
  {
   "cell_type": "code",
   "execution_count": 2,
   "id": "7d00f73f-7454-4286-a447-8489aa58c0de",
   "metadata": {},
   "outputs": [],
   "source": [
    "path = f\"{getcwd()}/../mnist.npz\""
   ]
  },
  {
   "cell_type": "code",
   "execution_count": 3,
   "id": "c5371b11-6648-4a67-bc8b-79e85738c556",
   "metadata": {},
   "outputs": [],
   "source": [
    "Desired_acc = 0.998\n",
    "class myCallback(tf.keras.callbacks.Callback):\n",
    "    def on_epoch_end(self, epoch, logs={}):\n",
    "        if(logs.get('accuracy')>Desired_acc):\n",
    "            print(f\"\\nReached {Desired_acc} % accuracy so cancelling the training!\")\n",
    "            self.model.stop_training = True\n",
    "\n",
    "\n",
    "#def train_mnist_conv():\n",
    "\n",
    "callbacks = myCallback()\n",
    "\n",
    "mnist = tf.keras.datasets.mnist\n",
    "(training_images, training_labels), (test_images, test_labels) = mnist.load_data(path=path)    "
   ]
  },
  {
   "cell_type": "code",
   "execution_count": 4,
   "id": "c2b88427-8638-456b-b54f-e29fc552affe",
   "metadata": {},
   "outputs": [
    {
     "name": "stdout",
     "output_type": "stream",
     "text": [
      "60000 10000\n"
     ]
    }
   ],
   "source": [
    "print(len(training_images), len(test_images))"
   ]
  },
  {
   "cell_type": "code",
   "execution_count": 5,
   "id": "ba7d9eaf-c041-4c08-8145-28d23413618a",
   "metadata": {},
   "outputs": [],
   "source": [
    "training_images = training_images.reshape(60000, 28, 28, 1)\n",
    "training_images = training_images / 255.\n",
    "\n",
    "test_images = test_images.reshape(10000, 28, 28, 1)\n",
    "test_images = test_images / 255."
   ]
  },
  {
   "cell_type": "code",
   "execution_count": 6,
   "id": "334649da-77a2-4c69-a782-000e357ed18c",
   "metadata": {},
   "outputs": [
    {
     "name": "stdout",
     "output_type": "stream",
     "text": [
      "28 28\n"
     ]
    }
   ],
   "source": [
    "print(len(test_images[0]), len(test_images[1]))"
   ]
  },
  {
   "cell_type": "code",
   "execution_count": 7,
   "id": "8cc6f00f-74df-454a-af6c-41de812e29d3",
   "metadata": {},
   "outputs": [
    {
     "name": "stdout",
     "output_type": "stream",
     "text": [
      "Metal device set to: Apple M1 Pro\n",
      "Epoch 1/20\n"
     ]
    },
    {
     "name": "stderr",
     "output_type": "stream",
     "text": [
      "2022-03-19 14:58:27.027450: I tensorflow/core/common_runtime/pluggable_device/pluggable_device_factory.cc:305] Could not identify NUMA node of platform GPU ID 0, defaulting to 0. Your kernel may not have been built with NUMA support.\n",
      "2022-03-19 14:58:27.027607: I tensorflow/core/common_runtime/pluggable_device/pluggable_device_factory.cc:271] Created TensorFlow device (/job:localhost/replica:0/task:0/device:GPU:0 with 0 MB memory) -> physical PluggableDevice (device: 0, name: METAL, pci bus id: <undefined>)\n",
      "2022-03-19 14:58:27.161915: W tensorflow/core/platform/profile_utils/cpu_utils.cc:128] Failed to get CPU frequency: 0 Hz\n"
     ]
    },
    {
     "name": "stdout",
     "output_type": "stream",
     "text": [
      "   5/1875 [..............................] - ETA: 24s - loss: 2.1098 - accuracy: 0.2875 "
     ]
    },
    {
     "name": "stderr",
     "output_type": "stream",
     "text": [
      "2022-03-19 14:58:27.272595: I tensorflow/core/grappler/optimizers/custom_graph_optimizer_registry.cc:113] Plugin optimizer for device_type GPU is enabled.\n"
     ]
    },
    {
     "name": "stdout",
     "output_type": "stream",
     "text": [
      "1875/1875 [==============================] - 21s 11ms/step - loss: 0.1264 - accuracy: 0.9618\n",
      "Epoch 2/20\n",
      "1875/1875 [==============================] - 21s 11ms/step - loss: 0.0416 - accuracy: 0.9869\n",
      "Epoch 3/20\n",
      "1875/1875 [==============================] - 21s 11ms/step - loss: 0.0232 - accuracy: 0.9925\n",
      "Epoch 4/20\n",
      "1875/1875 [==============================] - 21s 11ms/step - loss: 0.0142 - accuracy: 0.9955\n",
      "Epoch 5/20\n",
      "1875/1875 [==============================] - 21s 11ms/step - loss: 0.0103 - accuracy: 0.9968\n",
      "Epoch 6/20\n",
      "1875/1875 [==============================] - 21s 11ms/step - loss: 0.0074 - accuracy: 0.9975\n",
      "Epoch 7/20\n",
      "1875/1875 [==============================] - 21s 11ms/step - loss: 0.0062 - accuracy: 0.9978\n",
      "Epoch 8/20\n",
      "1872/1875 [============================>.] - ETA: 0s - loss: 0.0053 - accuracy: 0.9982\n",
      "Reached 0.998 % accuracy so cancelling the training!\n",
      "1875/1875 [==============================] - 21s 11ms/step - loss: 0.0053 - accuracy: 0.9983\n"
     ]
    }
   ],
   "source": [
    "model = tf.keras.Sequential([\n",
    "    tf.keras.layers.Conv2D(64, (3,3), activation='relu', input_shape=(28,28,1)),\n",
    "    tf.keras.layers.MaxPooling2D(2,2),\n",
    "    \n",
    "    tf.keras.layers.Flatten(),\n",
    "    tf.keras.layers.Dense(256, activation='relu'),\n",
    "    tf.keras.layers.Dense(10, activation='softmax')\n",
    "])\n",
    "\n",
    "model.compile(optimizer='adam', loss='sparse_categorical_crossentropy', metrics=['accuracy'])\n",
    "hitory = model.fit(training_images, training_labels, epochs=20, callbacks=[callbacks])"
   ]
  },
  {
   "cell_type": "markdown",
   "id": "6b060260-1526-4970-a8f7-028256a876bc",
   "metadata": {},
   "source": [
    "# Full code as a function and overfitting analysis"
   ]
  },
  {
   "cell_type": "code",
   "execution_count": 25,
   "id": "e8c42c63-e703-4ac1-be1e-666ee36818f7",
   "metadata": {},
   "outputs": [],
   "source": [
    "import tensorflow as tf\n",
    "Desired_acc = 0.998\n",
    "class myCallback(tf.keras.callbacks.Callback):\n",
    "    def on_epoch_end(self, epoch, logs={}):\n",
    "        if(logs.get('accuracy')>Desired_acc):\n",
    "            print(f\"\\nReached {Desired_acc} % accuracy so cancelling the training!\")\n",
    "            self.model.stop_training = True\n",
    "\n",
    "def training_mnist_conv():\n",
    "    \n",
    "    callbacks = myCallback()\n",
    "    mnist = tf.keras.datasets.mnist\n",
    "    (training_images, training_labels), (test_images, test_labels) = mnist.load_data(path=path)    \n",
    "    \n",
    "    training_images = training_images.reshape(60000, 28, 28, 1)\n",
    "    training_images = training_images / 255.\n",
    "    \n",
    "    test_images = test_images.reshape(10000, 28, 28, 1)\n",
    "    test_images = test_images / 255.\n",
    "    \n",
    "    model = tf.keras.Sequential([\n",
    "    tf.keras.layers.Conv2D(64, (3,3), activation='relu', input_shape=(28,28,1)),\n",
    "    tf.keras.layers.MaxPooling2D(2,2),\n",
    "    \n",
    "    tf.keras.layers.Flatten(),\n",
    "    tf.keras.layers.Dense(256, activation='relu'),\n",
    "    tf.keras.layers.Dense(10, activation='softmax')\n",
    "])\n",
    "\n",
    "    model.compile(optimizer='adam', loss='sparse_categorical_crossentropy', metrics=['accuracy'])\n",
    "    history = model.fit(training_images, training_labels, epochs=20, validation_data=(test_images, test_labels), callbacks=[callbacks])\n",
    "    \n",
    "    return history, history.epoch, history.history['accuracy'][-1]"
   ]
  },
  {
   "cell_type": "code",
   "execution_count": 26,
   "id": "403c83bf-b705-4d6c-9af0-a5e1de2aa403",
   "metadata": {},
   "outputs": [
    {
     "name": "stdout",
     "output_type": "stream",
     "text": [
      "Epoch 1/20\n",
      "   4/1875 [..............................] - ETA: 31s - loss: 2.1036 - accuracy: 0.2812     WARNING:tensorflow:Callback method `on_train_batch_end` is slow compared to the batch time (batch time: 0.0057s vs `on_train_batch_end` time: 0.0067s). Check your callbacks.\n",
      "  11/1875 [..............................] - ETA: 18s - loss: 1.5965 - accuracy: 0.5085"
     ]
    },
    {
     "name": "stderr",
     "output_type": "stream",
     "text": [
      "2022-03-19 15:25:59.058008: I tensorflow/core/grappler/optimizers/custom_graph_optimizer_registry.cc:113] Plugin optimizer for device_type GPU is enabled.\n"
     ]
    },
    {
     "name": "stdout",
     "output_type": "stream",
     "text": [
      "1871/1875 [============================>.] - ETA: 0s - loss: 0.1248 - accuracy: 0.9621"
     ]
    },
    {
     "name": "stderr",
     "output_type": "stream",
     "text": [
      "2022-03-19 15:26:19.223414: I tensorflow/core/grappler/optimizers/custom_graph_optimizer_registry.cc:113] Plugin optimizer for device_type GPU is enabled.\n"
     ]
    },
    {
     "name": "stdout",
     "output_type": "stream",
     "text": [
      "1875/1875 [==============================] - 22s 12ms/step - loss: 0.1247 - accuracy: 0.9622 - val_loss: 0.0548 - val_accuracy: 0.9824\n",
      "Epoch 2/20\n",
      "1875/1875 [==============================] - 22s 12ms/step - loss: 0.0419 - accuracy: 0.9869 - val_loss: 0.0493 - val_accuracy: 0.9822\n",
      "Epoch 3/20\n",
      "1875/1875 [==============================] - 22s 12ms/step - loss: 0.0244 - accuracy: 0.9922 - val_loss: 0.0503 - val_accuracy: 0.9830\n",
      "Epoch 4/20\n",
      "1875/1875 [==============================] - 22s 12ms/step - loss: 0.0152 - accuracy: 0.9950 - val_loss: 0.0381 - val_accuracy: 0.9873\n",
      "Epoch 5/20\n",
      "1875/1875 [==============================] - 22s 12ms/step - loss: 0.0100 - accuracy: 0.9965 - val_loss: 0.0413 - val_accuracy: 0.9876\n",
      "Epoch 6/20\n",
      "1875/1875 [==============================] - 22s 12ms/step - loss: 0.0071 - accuracy: 0.9976 - val_loss: 0.0552 - val_accuracy: 0.9862\n",
      "Epoch 7/20\n",
      "1875/1875 [==============================] - 22s 12ms/step - loss: 0.0063 - accuracy: 0.9976 - val_loss: 0.0617 - val_accuracy: 0.9840\n",
      "Epoch 8/20\n",
      "1871/1875 [============================>.] - ETA: 0s - loss: 0.0055 - accuracy: 0.9981\n",
      "Reached 0.998 % accuracy so cancelling the training!\n",
      "1875/1875 [==============================] - 22s 12ms/step - loss: 0.0055 - accuracy: 0.9981 - val_loss: 0.0612 - val_accuracy: 0.9852\n"
     ]
    }
   ],
   "source": [
    "history, _, _ = training_mnist_conv()"
   ]
  },
  {
   "cell_type": "code",
   "execution_count": 27,
   "id": "78b169bc-0049-4c56-91de-52608d82cffa",
   "metadata": {},
   "outputs": [
    {
     "data": {
      "image/png": "[encoded data removed]",
      "text/plain": [
       "<Figure size 432x288 with 1 Axes>"
      ]
     },
     "metadata": {
      "needs_background": "light"
     },
     "output_type": "display_data"
    },
    {
     "data": {
      "image/png": "[encoded data removed]",
      "text/plain": [
       "<Figure size 432x288 with 1 Axes>"
      ]
     },
     "metadata": {
      "needs_background": "light"
     },
     "output_type": "display_data"
    }
   ],
   "source": [
    "import matplotlib.pyplot as plt\n",
    "\n",
    "# Plot utility\n",
    "def plot_graphs(history, string):\n",
    "    plt.plot(history.history[string])\n",
    "    plt.plot(history.history['val_'+string])\n",
    "    plt.xlabel(\"Epochs\")\n",
    "    plt.ylabel(string)\n",
    "    plt.legend([string, 'val_'+string])\n",
    "    plt.show()\n",
    "    \n",
    "# Plot the accuracy and results \n",
    "plot_graphs(history, \"accuracy\")\n",
    "plot_graphs(history, \"loss\")"
   ]
  },
  {
   "cell_type": "code",
   "execution_count": null,
   "id": "06daf12c-c4ae-4f2c-b11a-4c8625971828",
   "metadata": {},
   "outputs": [],
   "source": []
  }
 ],
 "metadata": {
  "kernelspec": {
   "display_name": "Python 3 (ipykernel)",
   "language": "python",
   "name": "python3"
  },
  "language_info": {
   "codemirror_mode": {
    "name": "ipython",
    "version": 3
   },
   "file_extension": ".py",
   "mimetype": "text/x-python",
   "name": "python",
   "nbconvert_exporter": "python",
   "pygments_lexer": "ipython3",
   "version": "3.8.12"
  }
 },
 "nbformat": 4,
 "nbformat_minor": 5
}
