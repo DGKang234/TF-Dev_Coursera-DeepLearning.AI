{
 "cells": [
  {
   "cell_type": "markdown",
   "id": "e6536acc-0c24-466d-b9d3-c661881f82ce",
   "metadata": {},
   "source": [
    "# Recurrent Neural Network"
   ]
  },
  {
   "cell_type": "markdown",
   "id": "6715acfc-99b3-4b61-8c1b-cefa8ed99c1f",
   "metadata": {},
   "source": [
    "RNN is like Fibbonaci sequence. x is input y is output and another element that fed into function from the previous function.\n"
   ]
  },
  {
   "cell_type": "markdown",
   "id": "78298636-0e03-4bdc-a7c6-a725146e6ed8",
   "metadata": {},
   "source": [
    "# Long Short Term Memory"
   ]
  },
  {
   "cell_type": "markdown",
   "id": "66735e2c-433d-49ab-a6f3-9254c8fb80f1",
   "metadata": {},
   "source": [
    "Today has a beautiful blue <....> \n",
    "I lived in Korea, so at school they made me learn how to speak <...>\n",
    "importantly in the ML context is keyword gives the detail about the language blue <-> sky, Korea <-> Korean\n",
    "\n",
    "LSTMs have additional pipeline that can pass through the network to impact it. This helps keep context from earlier tokens relavance in later ones.\n",
    "Cell state can be bidirectional so later context can impact earlier ones."
   ]
  },
  {
   "cell_type": "markdown",
   "id": "f508d05b-c40c-4963-9474-703c8b7207b6",
   "metadata": {},
   "source": [
    "# IMDB Subwords 8K with Single Layer LSTM"
   ]
  },
  {
   "cell_type": "code",
   "execution_count": null,
   "id": "6fb6e2a4-7ca4-43bb-8b86-02555deb0d5b",
   "metadata": {},
   "outputs": [],
   "source": [
    "import tensorflow as tf\n",
    "print(\"Num GPUs Available: \", len(tf.config.list_physical_devices('GPU')))"
   ]
  },
  {
   "cell_type": "code",
   "execution_count": null,
   "id": "702ed97e-effe-4b81-a889-31a13ccca208",
   "metadata": {},
   "outputs": [],
   "source": [
    "tf.debugging.set_log_device_placement(True)\n",
    "\n",
    "# Create some tensors\n",
    "a = tf.constant([[1.0, 2.0, 3.0], [4.0, 5.0, 6.0]])\n",
    "b = tf.constant([[1.0, 2.0], [3.0, 4.0], [5.0, 6.0]])\n",
    "c = tf.matmul(a, b)\n",
    "\n",
    "print(c)"
   ]
  },
  {
   "cell_type": "code",
   "execution_count": null,
   "id": "990ceb46-a71e-470f-bbcc-0766b39e995e",
   "metadata": {},
   "outputs": [],
   "source": [
    "physical_devices = tf.config.list_physical_devices()\n",
    "physical_devices"
   ]
  },
  {
   "cell_type": "markdown",
   "id": "f7403c65-035b-4884-ad77-9469c3d34719",
   "metadata": {},
   "source": [
    "# Start from here"
   ]
  },
  {
   "cell_type": "code",
   "execution_count": 1,
   "id": "bb8ed635-183f-4aae-b187-e9862592feda",
   "metadata": {},
   "outputs": [
    {
     "name": "stderr",
     "output_type": "stream",
     "text": [
      "WARNING:absl:TFDS datasets with text encoding are deprecated and will be removed in a future version. Instead, you should use the plain text version and tokenize the text using `tensorflow_text` (See: https://www.tensorflow.org/tutorials/tensorflow_text/intro#tfdata_example)\n"
     ]
    },
    {
     "name": "stdout",
     "output_type": "stream",
     "text": [
      "Metal device set to: Apple M1 Pro\n",
      "{'train': <PrefetchDataset element_spec=(TensorSpec(shape=(None,), dtype=tf.int64, name=None), TensorSpec(shape=(), dtype=tf.int64, name=None))>, 'test': <PrefetchDataset element_spec=(TensorSpec(shape=(None,), dtype=tf.int64, name=None), TensorSpec(shape=(), dtype=tf.int64, name=None))>, 'unsupervised': <PrefetchDataset element_spec=(TensorSpec(shape=(None,), dtype=tf.int64, name=None), TensorSpec(shape=(), dtype=tf.int64, name=None))>}\n",
      "\n",
      "tfds.core.DatasetInfo(\n",
      "    name='imdb_reviews',\n",
      "    full_name='imdb_reviews/subwords8k/1.0.0',\n",
      "    description=\"\"\"\n",
      "    Large Movie Review Dataset.\n",
      "    This is a dataset for binary sentiment classification containing substantially more data than previous benchmark datasets. We provide a set of 25,000 highly polar movie reviews for training, and 25,000 for testing. There is additional unlabeled data for use as well.\n",
      "    \"\"\",\n",
      "    config_description=\"\"\"\n",
      "    Uses `tfds.deprecated.text.SubwordTextEncoder` with 8k vocab size\n",
      "    \"\"\",\n",
      "    homepage='http://ai.stanford.edu/~amaas/data/sentiment/',\n",
      "    data_path='/Users/tonggihkang/tensorflow_datasets/imdb_reviews/subwords8k/1.0.0',\n",
      "    download_size=80.23 MiB,\n",
      "    dataset_size=54.72 MiB,\n",
      "    features=FeaturesDict({\n",
      "        'label': ClassLabel(shape=(), dtype=tf.int64, num_classes=2),\n",
      "        'text': Text(shape=(None,), dtype=tf.int64, encoder=<SubwordTextEncoder vocab_size=8185>),\n",
      "    }),\n",
      "    supervised_keys=('text', 'label'),\n",
      "    disable_shuffling=False,\n",
      "    splits={\n",
      "        'test': <SplitInfo num_examples=25000, num_shards=1>,\n",
      "        'train': <SplitInfo num_examples=25000, num_shards=1>,\n",
      "        'unsupervised': <SplitInfo num_examples=50000, num_shards=1>,\n",
      "    },\n",
      "    citation=\"\"\"@InProceedings{maas-EtAl:2011:ACL-HLT2011,\n",
      "      author    = {Maas, Andrew L.  and  Daly, Raymond E.  and  Pham, Peter T.  and  Huang, Dan  and  Ng, Andrew Y.  and  Potts, Christopher},\n",
      "      title     = {Learning Word Vectors for Sentiment Analysis},\n",
      "      booktitle = {Proceedings of the 49th Annual Meeting of the Association for Computational Linguistics: Human Language Technologies},\n",
      "      month     = {June},\n",
      "      year      = {2011},\n",
      "      address   = {Portland, Oregon, USA},\n",
      "      publisher = {Association for Computational Linguistics},\n",
      "      pages     = {142--150},\n",
      "      url       = {http://www.aclweb.org/anthology/P11-1015}\n",
      "    }\"\"\",\n",
      ")\n",
      "<SubwordTextEncoder vocab_size=8185>\n"
     ]
    },
    {
     "name": "stderr",
     "output_type": "stream",
     "text": [
      "2022-03-17 16:56:19.120983: I tensorflow/core/common_runtime/pluggable_device/pluggable_device_factory.cc:305] Could not identify NUMA node of platform GPU ID 0, defaulting to 0. Your kernel may not have been built with NUMA support.\n",
      "2022-03-17 16:56:19.121100: I tensorflow/core/common_runtime/pluggable_device/pluggable_device_factory.cc:271] Created TensorFlow device (/job:localhost/replica:0/task:0/device:GPU:0 with 0 MB memory) -> physical PluggableDevice (device: 0, name: METAL, pci bus id: <undefined>)\n"
     ]
    }
   ],
   "source": [
    "import tensorflow_datasets as tfds\n",
    "\n",
    "dataset, info = tfds.load('imdb_reviews/subwords8k', with_info=True, as_supervised=True)\n",
    "print(dataset)\n",
    "print()\n",
    "print(info)\n",
    "tokenizer = info.features['text'].encoder\n",
    "print(tokenizer)"
   ]
  },
  {
   "cell_type": "code",
   "execution_count": 2,
   "id": "57b26a1a-703a-4427-8d49-9dbc8dc9dc81",
   "metadata": {},
   "outputs": [
    {
     "name": "stdout",
     "output_type": "stream",
     "text": [
      "25000 25000\n",
      "<PrefetchDataset element_spec=(TensorSpec(shape=(None,), dtype=tf.int64, name=None), TensorSpec(shape=(), dtype=tf.int64, name=None))>\n",
      "<ShuffleDataset element_spec=(TensorSpec(shape=(None,), dtype=tf.int64, name=None), TensorSpec(shape=(), dtype=tf.int64, name=None))>\n"
     ]
    }
   ],
   "source": [
    "BUFFER_SIZE = 10000\n",
    "BATCH_SIZE = 256\n",
    "\n",
    "train_data, test_data = dataset['train'], dataset['test'],        # 1 : 1\n",
    "print(len(train_data), len(test_data))                     \n",
    "\n",
    "# Shuffle the training data\n",
    "print(train_data)\n",
    "train_dataset = train_data.shuffle(BUFFER_SIZE)\n",
    "print(train_dataset)\n",
    "\n",
    "# Batch and pad the datasets to the maximum length of the sequences\n",
    "train_dataset = train_dataset.padded_batch(BATCH_SIZE)\n",
    "test_dataset = test_data.padded_batch(BATCH_SIZE)"
   ]
  },
  {
   "cell_type": "code",
   "execution_count": 3,
   "id": "ad324447-9465-4146-a3c6-dc7ceff4d00a",
   "metadata": {},
   "outputs": [
    {
     "name": "stdout",
     "output_type": "stream",
     "text": [
      "Model: \"sequential\"\n",
      "_________________________________________________________________\n",
      " Layer (type)                Output Shape              Param #   \n",
      "=================================================================\n",
      " embedding (Embedding)       (None, None, 64)          523840    \n",
      "                                                                 \n",
      " bidirectional (Bidirectiona  (None, 128)              66048     \n",
      " l)                                                              \n",
      "                                                                 \n",
      " dense (Dense)               (None, 64)                8256      \n",
      "                                                                 \n",
      " dense_1 (Dense)             (None, 1)                 65        \n",
      "                                                                 \n",
      "=================================================================\n",
      "Total params: 598,209\n",
      "Trainable params: 598,209\n",
      "Non-trainable params: 0\n",
      "_________________________________________________________________\n"
     ]
    }
   ],
   "source": [
    "import tensorflow as tf\n",
    "\n",
    "# Hyperparameters\n",
    "embedding_dim = 64\n",
    "lstm_dim = 64\n",
    "dense_dim = 64\n",
    "\n",
    "# Build the model\n",
    "model = tf.keras.Sequential([\n",
    "                            tf.keras.layers.Embedding(tokenizer.vocab_size, embedding_dim),\n",
    "                            tf.keras.layers.Bidirectional(tf.keras.layers.LSTM(lstm_dim)),\n",
    "                            tf.keras.layers.Dense(dense_dim, activation='relu'),\n",
    "                            tf.keras.layers.Dense(1, activation='sigmoid')\n",
    "])\n",
    "\n",
    "# number of output that dessired from the layer, return_sequence will \n",
    "# make sure that the outputs of the LSTM match the desired inputs of the next one.\n",
    "# both direction   output shpae will be 128 as it is bidirectional\n",
    "\n",
    "# Print the model summary\n",
    "model.summary()"
   ]
  },
  {
   "cell_type": "code",
   "execution_count": 4,
   "id": "d87dfa18-e5b5-42bc-b794-abee80c55a52",
   "metadata": {},
   "outputs": [],
   "source": [
    "# Set the training parameters\n",
    "model.compile(loss='binary_crossentropy', optimizer='adam', metrics=['accuracy'])"
   ]
  },
  {
   "cell_type": "code",
   "execution_count": 5,
   "id": "a7fdd00f-8d95-4c8b-95e1-6df9b7529d18",
   "metadata": {},
   "outputs": [],
   "source": [
    "Desired_acc = 0.99\n",
    "class myCallback(tf.keras.callbacks.Callback):\n",
    "    def on_epoch_end(self, epoch, logs={}):\n",
    "        if (logs.get('accuracy') is not None and logs.get('accuracy') >= Desired_acc):\n",
    "            print(f\"\\nReached {Desired_acc * 100} % accuracy so cancelling training!\")\n",
    "            self.model.stop_training = True"
   ]
  },
  {
   "cell_type": "code",
   "execution_count": 6,
   "id": "704597d4-c9ea-4d29-a8e8-a40fda872017",
   "metadata": {},
   "outputs": [
    {
     "name": "stdout",
     "output_type": "stream",
     "text": [
      "[PhysicalDevice(name='/physical_device:CPU:0', device_type='CPU'), PhysicalDevice(name='/physical_device:GPU:0', device_type='GPU')]\n",
      "Epoch 1/10\n"
     ]
    },
    {
     "name": "stderr",
     "output_type": "stream",
     "text": [
      "2022-03-17 16:56:26.090625: W tensorflow/core/platform/profile_utils/cpu_utils.cc:128] Failed to get CPU frequency: 0 Hz\n",
      "2022-03-17 16:56:26.093780: I tensorflow/core/grappler/optimizers/custom_graph_optimizer_registry.cc:113] Plugin optimizer for device_type GPU is enabled.\n"
     ]
    },
    {
     "name": "stdout",
     "output_type": "stream",
     "text": [
      "98/98 [==============================] - ETA: 0s - loss: 0.5418 - accuracy: 0.6996"
     ]
    },
    {
     "name": "stderr",
     "output_type": "stream",
     "text": [
      "2022-03-17 17:02:29.466233: I tensorflow/core/grappler/optimizers/custom_graph_optimizer_registry.cc:113] Plugin optimizer for device_type GPU is enabled.\n"
     ]
    },
    {
     "name": "stdout",
     "output_type": "stream",
     "text": [
      "98/98 [==============================] - 470s 5s/step - loss: 0.5418 - accuracy: 0.6996 - val_loss: 0.3992 - val_accuracy: 0.8394\n",
      "Epoch 2/10\n",
      "98/98 [==============================] - 504s 5s/step - loss: 0.2819 - accuracy: 0.8924 - val_loss: 0.3516 - val_accuracy: 0.8547\n",
      "Epoch 3/10\n",
      "98/98 [==============================] - 496s 5s/step - loss: 0.2230 - accuracy: 0.9202 - val_loss: 0.3794 - val_accuracy: 0.8530\n",
      "Epoch 4/10\n",
      "98/98 [==============================] - 494s 5s/step - loss: 0.1855 - accuracy: 0.9342 - val_loss: 0.3889 - val_accuracy: 0.8447\n",
      "Epoch 5/10\n",
      "98/98 [==============================] - 513s 5s/step - loss: 0.1771 - accuracy: 0.9355 - val_loss: 0.4123 - val_accuracy: 0.8375\n",
      "Epoch 6/10\n",
      "98/98 [==============================] - 580s 6s/step - loss: 0.1358 - accuracy: 0.9543 - val_loss: 0.5276 - val_accuracy: 0.8367\n",
      "Epoch 7/10\n",
      "98/98 [==============================] - 566s 6s/step - loss: 0.1802 - accuracy: 0.9338 - val_loss: 0.4902 - val_accuracy: 0.8334\n",
      "Epoch 8/10\n",
      "98/98 [==============================] - 577s 6s/step - loss: 0.1117 - accuracy: 0.9631 - val_loss: 0.5448 - val_accuracy: 0.8330\n",
      "Epoch 9/10\n",
      "98/98 [==============================] - 572s 6s/step - loss: 0.2105 - accuracy: 0.9105 - val_loss: 0.5735 - val_accuracy: 0.7266\n",
      "Epoch 10/10\n",
      "98/98 [==============================] - 571s 6s/step - loss: 0.1701 - accuracy: 0.9371 - val_loss: 0.4681 - val_accuracy: 0.8095\n"
     ]
    }
   ],
   "source": [
    "NUM_EPOCHS = 10\n",
    "callbacks = myCallback()\n",
    "with tf.device(\"/cpu:0\"):\n",
    "    print(tf.config.list_physical_devices())\n",
    "    history = model.fit(train_dataset, epochs=NUM_EPOCHS, validation_data=test_dataset, callbacks=[callbacks])"
   ]
  },
  {
   "cell_type": "code",
   "execution_count": null,
   "id": "9cf6427d-e474-4aea-9ae6-8780241b7ae3",
   "metadata": {},
   "outputs": [
    {
     "data": {
      "image/png": "[encoded data removed]",
      "text/plain": [
       "<Figure size 432x288 with 1 Axes>"
      ]
     },
     "metadata": {
      "needs_background": "light"
     },
     "output_type": "display_data"
    },
    {
     "data": {
      "image/png": "[encoded data removed]",
      "text/plain": [
       "<Figure size 432x288 with 1 Axes>"
      ]
     },
     "metadata": {
      "needs_background": "light"
     },
     "output_type": "display_data"
    }
   ],
   "source": [
    "import matplotlib.pyplot as plt\n",
    "\n",
    "# Plot utility\n",
    "def plot_graphs(history, string):\n",
    "  plt.plot(history.history[string])\n",
    "  plt.plot(history.history['val_'+string])\n",
    "  plt.xlabel(\"Epochs\")\n",
    "  plt.ylabel(string)\n",
    "  plt.legend([string, 'val_'+string])\n",
    "  plt.show()\n",
    "\n",
    "# Plot the accuracy and results \n",
    "plot_graphs(history, \"accuracy\")\n",
    "plot_graphs(history, \"loss\")"
   ]
  },
  {
   "cell_type": "code",
   "execution_count": null,
   "id": "e3bcd5ab-eaf3-4865-85a0-86c53d31c295",
   "metadata": {},
   "outputs": [],
   "source": []
  }
 ],
 "metadata": {
  "kernelspec": {
   "display_name": "Python 3 (ipykernel)",
   "language": "python",
   "name": "python3"
  },
  "language_info": {
   "codemirror_mode": {
    "name": "ipython",
    "version": 3
   },
   "file_extension": ".py",
   "mimetype": "text/x-python",
   "name": "python",
   "nbconvert_exporter": "python",
   "pygments_lexer": "ipython3",
   "version": "3.8.12"
  }
 },
 "nbformat": 4,
 "nbformat_minor": 5
}
