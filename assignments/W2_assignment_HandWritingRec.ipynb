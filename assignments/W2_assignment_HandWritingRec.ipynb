{
  "nbformat": 4,
  "nbformat_minor": 0,
  "metadata": {
    "colab": {
      "name": "[Coursera]handwritingrecognition.ipynb",
      "provenance": [],
      "collapsed_sections": []
    },
    "kernelspec": {
      "name": "python3",
      "display_name": "Python 3"
    },
    "language_info": {
      "name": "python"
    },
    "accelerator": "GPU"
  },
  "cells": [
    {
      "cell_type": "code",
      "metadata": {
        "colab": {
          "base_uri": "https://localhost:8080/"
        },
        "id": "L1tgutkmnpHm",
        "outputId": "bb0d5ae9-4600-492b-d0d1-ebf36f735340"
      },
      "source": [
        "import tensorflow as tf\n",
        "import matplotlib.pyplot as plt\n",
        "\n",
        "\n",
        "class myCallback(tf.keras.callbacks.Callback):\n",
        "  def on_epoch_end(self, epoch, logs={}):\n",
        "    if(logs.get('accuracy')>0.99):\n",
        "      print(\"\\nReached 99% accuracy so cancelling training!\")\n",
        "      self.model.stop_training = True\n",
        "\n",
        "mnist = tf.keras.datasets.mnist\n",
        "# grey scale 70k images, minist images are 28x28 pixels\n",
        "\n",
        "# 60k images used to train NN, 10k images used to test\n",
        "(x_train, y_train),(x_test, y_test) = mnist.load_data()\n",
        "\n",
        "'''\n",
        "plt.imshow(x_train[0])\n",
        "print(\"\\ny_train[0]\")\n",
        "print(y_train[0])\n",
        "print(\"\\nx_train[0]\")\n",
        "print(x_train[0])\n",
        "print()\n",
        "'''\n",
        "# image has values from 0 to 255 so normalize the data\n",
        "x_train, x_test = x_train / 255.0, x_test / 255.0\n",
        "\n",
        "callbacks = myCallback()\n",
        "\n",
        "model = tf.keras.models.Sequential([                  # three layers NN\n",
        "  tf.keras.layers.Flatten(input_shape=(28, 28)),      # this is the shape that data expected to be in (28x28 pixels) turn in to simple linear array\n",
        "  tf.keras.layers.Dense(512, activation=tf.nn.relu),  # \n",
        "  tf.keras.layers.Dense(10, activation=tf.nn.softmax) # 10 classes of clothing in the dataset\n",
        "])\n",
        "model.compile(optimizer='adam',\n",
        "              loss='sparse_categorical_crossentropy',\n",
        "              metrics=['accuracy'])\n",
        "\n",
        "model.fit(x_train, y_train, epochs=10, callbacks=[callbacks]) # executing training process\n"
      ],
      "execution_count": 1,
      "outputs": [
        {
          "output_type": "stream",
          "name": "stdout",
          "text": [
            "Epoch 1/10\n",
            "1875/1875 [==============================] - 6s 3ms/step - loss: 0.2018 - accuracy: 0.9398\n",
            "Epoch 2/10\n",
            "1875/1875 [==============================] - 6s 3ms/step - loss: 0.0811 - accuracy: 0.9755\n",
            "Epoch 3/10\n",
            "1875/1875 [==============================] - 6s 3ms/step - loss: 0.0525 - accuracy: 0.9829\n",
            "Epoch 4/10\n",
            "1875/1875 [==============================] - 6s 3ms/step - loss: 0.0371 - accuracy: 0.9883\n",
            "Epoch 5/10\n",
            "1859/1875 [============================>.] - ETA: 0s - loss: 0.0256 - accuracy: 0.9915\n",
            "Reached 99% accuracy so cancelling training!\n",
            "1875/1875 [==============================] - 6s 3ms/step - loss: 0.0255 - accuracy: 0.9915\n"
          ]
        },
        {
          "output_type": "execute_result",
          "data": {
            "text/plain": [
              "<keras.callbacks.History at 0x7f6da00ffdd0>"
            ]
          },
          "metadata": {},
          "execution_count": 1
        }
      ]
    },
    {
      "cell_type": "code",
      "metadata": {
        "colab": {
          "base_uri": "https://localhost:8080/"
        },
        "id": "gV71M4zrnuAJ",
        "outputId": "4122b5a0-6bf7-42fc-b49a-a9a11b5c1374"
      },
      "source": [
        "# evaluate the fitted model with the data which the network not yet seen\n",
        "model.evaluate(x_test, y_test)"
      ],
      "execution_count": 2,
      "outputs": [
        {
          "output_type": "stream",
          "name": "stdout",
          "text": [
            "313/313 [==============================] - 1s 3ms/step - loss: 0.0711 - accuracy: 0.9796\n"
          ]
        },
        {
          "output_type": "execute_result",
          "data": {
            "text/plain": [
              "[0.07107950001955032, 0.9796000123023987]"
            ]
          },
          "metadata": {},
          "execution_count": 2
        }
      ]
    },
    {
      "cell_type": "code",
      "metadata": {
        "id": "mJlx5dtRn6Jr"
      },
      "source": [
        ""
      ],
      "execution_count": 2,
      "outputs": []
    }
  ]
}