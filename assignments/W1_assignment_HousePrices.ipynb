{
  "nbformat": 4,
  "nbformat_minor": 0,
  "metadata": {
    "coursera": {
      "course_slug": "introduction-tensorflow",
      "graded_item_id": "jRjw8",
      "launcher_item_id": "YoQKl"
    },
    "kernelspec": {
      "display_name": "Python 3",
      "language": "python",
      "name": "python3"
    },
    "language_info": {
      "codemirror_mode": {
        "name": "ipython",
        "version": 3
      },
      "file_extension": ".py",
      "mimetype": "text/x-python",
      "name": "python",
      "nbconvert_exporter": "python",
      "pygments_lexer": "ipython3",
      "version": "3.6.8"
    },
    "colab": {
      "name": "Exercise_1_House_Prices_Question.json",
      "provenance": []
    }
  },
  "cells": [
    {
      "cell_type": "markdown",
      "metadata": {
        "id": "mw2VBrBcgvGa"
      },
      "source": [
        "In this exercise you'll try to build a neural network that predicts the price of a house according to a simple formula.\n",
        "\n",
        "So, imagine if house pricing was as easy as a house costs 50k + 50k per bedroom, so that a 1 bedroom house costs 100k, a 2 bedroom house costs 150k etc.\n",
        "\n",
        "How would you create a neural network that learns this relationship so that it would predict a 7 bedroom house as costing close to 400k etc.\n",
        "\n",
        "Hint: Your network might work better if you scale the house price down. You don't have to give the answer 400...it might be better to create something that predicts the number 4, and then your answer is in the 'hundreds of thousands' etc."
      ]
    },
    {
      "cell_type": "code",
      "metadata": {
        "id": "5LeyeT8OXlqR"
      },
      "source": [
        "import tensorflow as tf\n",
        "import numpy as np\n",
        "from tensorflow import keras"
      ],
      "execution_count": null,
      "outputs": []
    },
    {
      "cell_type": "code",
      "metadata": {
        "id": "PUNO2E6SeURH"
      },
      "source": [
        "# GRADED FUNCTION: house_model\n",
        "def house_model(y_new):\n",
        "    xs = np.array([x for x in range(10)])\n",
        "    ys = np.array([(x+1.0)*0.5 for x in range(10)])\n",
        "    model = keras.Sequential([keras.layers.Dense(units=1, input_shape=[1])])\n",
        "    model.compile(optimizer = 'sgd', loss='mean_squared_error')\n",
        "    model.fit(xs, ys, epochs = 100) \n",
        "    return model.predict(y_new)[0]"
      ],
      "execution_count": null,
      "outputs": []
    },
    {
      "cell_type": "code",
      "metadata": {
        "id": "3TVX0XMkXlqS",
        "outputId": "7f899bdb-c378-44aa-87e3-90c7953ce2cd"
      },
      "source": [
        "prediction = house_model([7.0])\n",
        "print(prediction)"
      ],
      "execution_count": null,
      "outputs": [
        {
          "name": "stdout",
          "output_type": "stream",
          "text": [
            "Epoch 1/100\n",
            "10/10 [==============================] - 0s 14ms/sample - loss: 0.1319\n",
            "Epoch 2/100\n",
            "10/10 [==============================] - 0s 138us/sample - loss: 0.0802\n",
            "Epoch 3/100\n",
            "10/10 [==============================] - 0s 121us/sample - loss: 0.0706\n",
            "Epoch 4/100\n",
            "10/10 [==============================] - 0s 5ms/sample - loss: 0.0683\n",
            "Epoch 5/100\n",
            "10/10 [==============================] - 0s 127us/sample - loss: 0.0672\n",
            "Epoch 6/100\n",
            "10/10 [==============================] - 0s 96us/sample - loss: 0.0664\n",
            "Epoch 7/100\n",
            "10/10 [==============================] - 0s 117us/sample - loss: 0.0657\n",
            "Epoch 8/100\n",
            "10/10 [==============================] - 0s 107us/sample - loss: 0.0649\n",
            "Epoch 9/100\n",
            "10/10 [==============================] - 0s 114us/sample - loss: 0.0642\n",
            "Epoch 10/100\n",
            "10/10 [==============================] - 0s 514us/sample - loss: 0.0635\n",
            "Epoch 11/100\n",
            "10/10 [==============================] - 0s 800us/sample - loss: 0.0628\n",
            "Epoch 12/100\n",
            "10/10 [==============================] - 0s 112us/sample - loss: 0.0621\n",
            "Epoch 13/100\n",
            "10/10 [==============================] - 0s 113us/sample - loss: 0.0614\n",
            "Epoch 14/100\n",
            "10/10 [==============================] - 0s 96us/sample - loss: 0.0607\n",
            "Epoch 15/100\n",
            "10/10 [==============================] - 0s 99us/sample - loss: 0.0600\n",
            "Epoch 16/100\n",
            "10/10 [==============================] - 0s 98us/sample - loss: 0.0593\n",
            "Epoch 17/100\n",
            "10/10 [==============================] - 0s 126us/sample - loss: 0.0587\n",
            "Epoch 18/100\n",
            "10/10 [==============================] - 0s 108us/sample - loss: 0.0580\n",
            "Epoch 19/100\n",
            "10/10 [==============================] - 0s 105us/sample - loss: 0.0573\n",
            "Epoch 20/100\n",
            "10/10 [==============================] - 0s 99us/sample - loss: 0.0567\n",
            "Epoch 21/100\n",
            "10/10 [==============================] - 0s 97us/sample - loss: 0.0561\n",
            "Epoch 22/100\n",
            "10/10 [==============================] - 0s 98us/sample - loss: 0.0554\n",
            "Epoch 23/100\n",
            "10/10 [==============================] - 0s 107us/sample - loss: 0.0548\n",
            "Epoch 24/100\n",
            "10/10 [==============================] - 0s 120us/sample - loss: 0.0542\n",
            "Epoch 25/100\n",
            "10/10 [==============================] - 0s 114us/sample - loss: 0.0536\n",
            "Epoch 26/100\n",
            "10/10 [==============================] - 0s 468us/sample - loss: 0.0530\n",
            "Epoch 27/100\n",
            "10/10 [==============================] - 0s 792us/sample - loss: 0.0524\n",
            "Epoch 28/100\n",
            "10/10 [==============================] - 0s 129us/sample - loss: 0.0518\n",
            "Epoch 29/100\n",
            "10/10 [==============================] - 0s 7ms/sample - loss: 0.0512\n",
            "Epoch 30/100\n",
            "10/10 [==============================] - 0s 674us/sample - loss: 0.0506\n",
            "Epoch 31/100\n",
            "10/10 [==============================] - 0s 124us/sample - loss: 0.0501\n",
            "Epoch 32/100\n",
            "10/10 [==============================] - 0s 107us/sample - loss: 0.0495\n",
            "Epoch 33/100\n",
            "10/10 [==============================] - 0s 128us/sample - loss: 0.0489\n",
            "Epoch 34/100\n",
            "10/10 [==============================] - 0s 96us/sample - loss: 0.0484\n",
            "Epoch 35/100\n",
            "10/10 [==============================] - 0s 100us/sample - loss: 0.0478\n",
            "Epoch 36/100\n",
            "10/10 [==============================] - 0s 107us/sample - loss: 0.0473\n",
            "Epoch 37/100\n",
            "10/10 [==============================] - 0s 98us/sample - loss: 0.0468\n",
            "Epoch 38/100\n",
            "10/10 [==============================] - 0s 93us/sample - loss: 0.0462\n",
            "Epoch 39/100\n",
            "10/10 [==============================] - 0s 348us/sample - loss: 0.0457\n",
            "Epoch 40/100\n",
            "10/10 [==============================] - 0s 8ms/sample - loss: 0.0452\n",
            "Epoch 41/100\n",
            "10/10 [==============================] - 0s 442us/sample - loss: 0.0447\n",
            "Epoch 42/100\n",
            "10/10 [==============================] - 0s 764us/sample - loss: 0.0442\n",
            "Epoch 43/100\n",
            "10/10 [==============================] - 0s 120us/sample - loss: 0.0437\n",
            "Epoch 44/100\n",
            "10/10 [==============================] - 0s 113us/sample - loss: 0.0432\n",
            "Epoch 45/100\n",
            "10/10 [==============================] - 0s 117us/sample - loss: 0.0427\n",
            "Epoch 46/100\n",
            "10/10 [==============================] - 0s 112us/sample - loss: 0.0422\n",
            "Epoch 47/100\n",
            "10/10 [==============================] - 0s 110us/sample - loss: 0.0418\n",
            "Epoch 48/100\n",
            "10/10 [==============================] - 0s 118us/sample - loss: 0.0413\n",
            "Epoch 49/100\n",
            "10/10 [==============================] - 0s 117us/sample - loss: 0.0408\n",
            "Epoch 50/100\n",
            "10/10 [==============================] - 0s 524us/sample - loss: 0.0404\n",
            "Epoch 51/100\n",
            "10/10 [==============================] - 0s 139us/sample - loss: 0.0399\n",
            "Epoch 52/100\n",
            "10/10 [==============================] - 0s 109us/sample - loss: 0.0395\n",
            "Epoch 53/100\n",
            "10/10 [==============================] - 0s 131us/sample - loss: 0.0390\n",
            "Epoch 54/100\n",
            "10/10 [==============================] - 0s 131us/sample - loss: 0.0386\n",
            "Epoch 55/100\n",
            "10/10 [==============================] - 0s 518us/sample - loss: 0.0381\n",
            "Epoch 56/100\n",
            "10/10 [==============================] - 0s 827us/sample - loss: 0.0377\n",
            "Epoch 57/100\n",
            "10/10 [==============================] - 0s 113us/sample - loss: 0.0373\n",
            "Epoch 58/100\n",
            "10/10 [==============================] - 0s 117us/sample - loss: 0.0369\n",
            "Epoch 59/100\n",
            "10/10 [==============================] - 0s 118us/sample - loss: 0.0365\n",
            "Epoch 60/100\n",
            "10/10 [==============================] - 0s 131us/sample - loss: 0.0360\n",
            "Epoch 61/100\n",
            "10/10 [==============================] - 0s 7ms/sample - loss: 0.0356\n",
            "Epoch 62/100\n",
            "10/10 [==============================] - 0s 129us/sample - loss: 0.0352\n",
            "Epoch 63/100\n",
            "10/10 [==============================] - 0s 131us/sample - loss: 0.0348\n",
            "Epoch 64/100\n",
            "10/10 [==============================] - 0s 116us/sample - loss: 0.0344\n",
            "Epoch 65/100\n",
            "10/10 [==============================] - 0s 123us/sample - loss: 0.0341\n",
            "Epoch 66/100\n",
            "10/10 [==============================] - 0s 118us/sample - loss: 0.0337\n",
            "Epoch 67/100\n",
            "10/10 [==============================] - 0s 113us/sample - loss: 0.0333\n",
            "Epoch 68/100\n",
            "10/10 [==============================] - 0s 122us/sample - loss: 0.0329\n",
            "Epoch 69/100\n",
            "10/10 [==============================] - 0s 492us/sample - loss: 0.0325\n",
            "Epoch 70/100\n",
            "10/10 [==============================] - 0s 376us/sample - loss: 0.0322\n",
            "Epoch 71/100\n",
            "10/10 [==============================] - 0s 511us/sample - loss: 0.0318\n",
            "Epoch 72/100\n",
            "10/10 [==============================] - 0s 531us/sample - loss: 0.0315\n",
            "Epoch 73/100\n",
            "10/10 [==============================] - 0s 165us/sample - loss: 0.0311\n",
            "Epoch 74/100\n",
            "10/10 [==============================] - 0s 124us/sample - loss: 0.0308\n",
            "Epoch 75/100\n",
            "10/10 [==============================] - 0s 123us/sample - loss: 0.0304\n",
            "Epoch 76/100\n",
            "10/10 [==============================] - 0s 126us/sample - loss: 0.0301\n",
            "Epoch 77/100\n",
            "10/10 [==============================] - 0s 124us/sample - loss: 0.0297\n",
            "Epoch 78/100\n",
            "10/10 [==============================] - 0s 120us/sample - loss: 0.0294\n",
            "Epoch 79/100\n",
            "10/10 [==============================] - 0s 114us/sample - loss: 0.0291\n",
            "Epoch 80/100\n",
            "10/10 [==============================] - 0s 107us/sample - loss: 0.0287\n",
            "Epoch 81/100\n",
            "10/10 [==============================] - 0s 592us/sample - loss: 0.0284\n",
            "Epoch 82/100\n",
            "10/10 [==============================] - 0s 7ms/sample - loss: 0.0281\n",
            "Epoch 83/100\n",
            "10/10 [==============================] - 0s 265us/sample - loss: 0.0278\n",
            "Epoch 84/100\n",
            "10/10 [==============================] - 0s 844us/sample - loss: 0.0275\n",
            "Epoch 85/100\n",
            "10/10 [==============================] - 0s 125us/sample - loss: 0.0272\n",
            "Epoch 86/100\n",
            "10/10 [==============================] - 0s 109us/sample - loss: 0.0268\n",
            "Epoch 87/100\n",
            "10/10 [==============================] - 0s 98us/sample - loss: 0.0265\n",
            "Epoch 88/100\n",
            "10/10 [==============================] - 0s 106us/sample - loss: 0.0262\n",
            "Epoch 89/100\n",
            "10/10 [==============================] - 0s 114us/sample - loss: 0.0259\n",
            "Epoch 90/100\n",
            "10/10 [==============================] - 0s 106us/sample - loss: 0.0257\n",
            "Epoch 91/100\n",
            "10/10 [==============================] - 0s 103us/sample - loss: 0.0254\n",
            "Epoch 92/100\n",
            "10/10 [==============================] - 0s 98us/sample - loss: 0.0251\n",
            "Epoch 93/100\n",
            "10/10 [==============================] - 0s 110us/sample - loss: 0.0248\n",
            "Epoch 94/100\n",
            "10/10 [==============================] - 0s 7ms/sample - loss: 0.0245\n",
            "Epoch 95/100\n",
            "10/10 [==============================] - 0s 135us/sample - loss: 0.0242\n",
            "Epoch 96/100\n",
            "10/10 [==============================] - 0s 127us/sample - loss: 0.0240\n",
            "Epoch 97/100\n",
            "10/10 [==============================] - 0s 480us/sample - loss: 0.0237\n",
            "Epoch 98/100\n",
            "10/10 [==============================] - 0s 169us/sample - loss: 0.0234\n",
            "Epoch 99/100\n",
            "10/10 [==============================] - 0s 777us/sample - loss: 0.0232\n",
            "Epoch 100/100\n",
            "10/10 [==============================] - 0s 113us/sample - loss: 0.0229\n",
            "[4.0325356]\n"
          ]
        }
      ]
    },
    {
      "cell_type": "code",
      "metadata": {
        "id": "32RDK8C2XlqT"
      },
      "source": [
        "# Now click the 'Submit Assignment' button above.\n",
        "# Once that is complete, please run the following two cells to save your work and close the notebook"
      ],
      "execution_count": null,
      "outputs": []
    },
    {
      "cell_type": "code",
      "metadata": {
        "id": "edWMnskRXlqT",
        "outputId": "e986b902-5364-4449-d99c-04bab65ba251"
      },
      "source": [
        "%%javascript\n",
        "<!-- Save the notebook -->\n",
        "IPython.notebook.save_checkpoint();"
      ],
      "execution_count": null,
      "outputs": [
        {
          "data": {
            "application/javascript": [
              "<!-- Save the notebook -->\n",
              "IPython.notebook.save_checkpoint();\n"
            ],
            "text/plain": [
              "<IPython.core.display.Javascript object>"
            ]
          },
          "metadata": {},
          "output_type": "display_data"
        }
      ]
    },
    {
      "cell_type": "code",
      "metadata": {
        "id": "bgdXDWJoXlqU",
        "outputId": "8e81c5c8-9417-4ec1-ad7f-1486f0b614f1"
      },
      "source": [
        "%%javascript\n",
        "IPython.notebook.session.delete();\n",
        "window.onbeforeunload = null\n",
        "setTimeout(function() { window.close(); }, 1000);"
      ],
      "execution_count": null,
      "outputs": [
        {
          "data": {
            "application/javascript": [
              "IPython.notebook.session.delete();\n",
              "window.onbeforeunload = null\n",
              "setTimeout(function() { window.close(); }, 1000);\n"
            ],
            "text/plain": [
              "<IPython.core.display.Javascript object>"
            ]
          },
          "metadata": {},
          "output_type": "display_data"
        }
      ]
    },
    {
      "cell_type": "code",
      "metadata": {
        "id": "CeElhKnJXlqU"
      },
      "source": [
        ""
      ],
      "execution_count": null,
      "outputs": []
    }
  ]
}